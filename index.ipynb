{
 "cells": [
  {
   "cell_type": "code",
   "execution_count": null,
   "id": "4c1b6e75-eb61-4bc6-a76d-6ef92e0ab51a",
   "metadata": {
    "hide_input": true
   },
   "outputs": [],
   "source": [
    "#hide\n",
    "from nbdev import *"
   ]
  },
  {
   "cell_type": "markdown",
   "id": "309dea22-71ca-48af-99f0-3b0de9926b44",
   "metadata": {},
   "source": [
    "# Alamode Tools\n",
    "> Set of auxiliary tools for Alamode phonon programs"
   ]
  },
  {
   "cell_type": "markdown",
   "id": "a1c80977-6363-454a-ab84-7e8505c976b5",
   "metadata": {},
   "source": [
    "The directory structure\n",
    "\n",
    "    <crystal_name> ---+--- opt\n",
    "                      |\n",
    "                      +--- harmonic\n",
    "                      |\n",
    "                      +--- TDEP_<volume 1> ---+--- opt\n",
    "                      |                       |\n",
    "                      |                       +--- harmonic (may be linked to harmonic upstairs)\n",
    "                      |                       |\n",
    "                      |                       +--- T_<temperature 1>\n",
    "                      |                       |\n",
    "                      |                       +--- T_<temperature 1>_base\n",
    "                      |                       |\n",
    "                      |                       +--- ...\n",
    "                      |                       |\n",
    "                      |\n",
    "                      +--- TDEP_<volume 2>\n",
    "                      |\n",
    "\n",
    "\n",
    "The basic procedure:\n",
    "\n",
    "1. Start with optimized structure in `opt` directory\n",
    "2. Run the basic harmonic calculation in `harmonic` directory:\n",
    "    1. Starting from the unit cell as `POSCAR` file\n",
    "    2. Generate displacements pattern\n",
    "    3. Generate displacements\n",
    "    4. Run vasp on displacements\n",
    "    5. Extract forces\n",
    "    6. Calculate phonons and Mean Square Displacements (MSD)\n",
    "3. Calculate TDEP cycle for several volumes in `TDEP_<volume>`\n",
    "\n",
    "\n",
    "TODO\n",
    "-----\n",
    "\n",
    "create common directory in /opt/bin/ for all scripts:\n",
    "* make-gen\n",
    "* alm\n",
    "* run-calcs\n",
    "* proc-calcs\n",
    "* make-tdep\n",
    "* proc-dirs\n",
    "* extract.py\n",
    "  \n",
    " make short (one line) comments on external parameters expected in the command line"
   ]
  },
  {
   "cell_type": "code",
   "execution_count": null,
   "id": "1a6f2bc7-808f-4352-b0cc-85a34651c2c8",
   "metadata": {},
   "outputs": [],
   "source": []
  }
 ],
 "metadata": {
  "kernelspec": {
   "display_name": "Python 3 (ipykernel)",
   "language": "python",
   "name": "python3"
  }
 },
 "nbformat": 4,
 "nbformat_minor": 5
}
